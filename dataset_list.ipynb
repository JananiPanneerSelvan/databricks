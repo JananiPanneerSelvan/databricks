{
 "cells": [
  {
   "cell_type": "code",
   "execution_count": 0,
   "metadata": {
    "application/vnd.databricks.v1+cell": {
     "cellMetadata": {
      "byteLimit": 2048000,
      "rowLimit": 10000
     },
     "inputWidgets": {},
     "nuid": "0bda9b24-8b7a-4b42-b51f-d9950b22a406",
     "showTitle": false,
     "tableResultSettingsMap": {},
     "title": ""
    }
   },
   "outputs": [],
   "source": [
    "items = dbutils.fs.ls(\"dbfs:/databricks-datasets/\")\n",
    "file_count = 0\n",
    "folder_count = 0\n",
    "for item in items:\n",
    "  if item.isDir():\n",
    "    folder_count += 1\n",
    "  else:\n",
    "    file_count += 1\n",
    "print(f\"Found {file_count} files and {folder_count} folders\")"
   ]
  }
 ],
 "metadata": {
  "application/vnd.databricks.v1+notebook": {
   "computePreferences": null,
   "dashboards": [],
   "environmentMetadata": {
    "base_environment": "",
    "environment_version": "2"
   },
   "inputWidgetPreferences": null,
   "language": "python",
   "notebookMetadata": {
    "pythonIndentUnit": 4
   },
   "notebookName": "dataset_list",
   "widgets": {}
  },
  "language_info": {
   "name": "python"
  }
 },
 "nbformat": 4,
 "nbformat_minor": 0
}
